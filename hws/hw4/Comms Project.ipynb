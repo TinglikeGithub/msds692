{
 "cells": [
  {
   "cell_type": "code",
   "execution_count": 5,
   "metadata": {},
   "outputs": [],
   "source": [
    "from words import get_text, words, filenames\n",
    "import os"
   ]
  },
  {
   "attachments": {},
   "cell_type": "markdown",
   "metadata": {},
   "source": [
    "# Search Engine Comparision: \n",
    "\n",
    "# Linear Search v.s. Hashtable Search\n",
    "\n",
    "Let us imagine we have a collection of about 4500 files, each being an article filled with numerous words. We aim to search for specific words across all files and return a list of filenames where the file content includes all the words in terms.\n",
    "\n",
    "We will try to carry out this objective with both a traditional linear search, as well as a method using hash tables. "
   ]
  },
  {
   "cell_type": "code",
   "execution_count": 6,
   "metadata": {},
   "outputs": [],
   "source": [
    "def filelist(root):\n",
    "    root = os.path.expanduser(root) \n",
    "    retlist = []\n",
    "    \n",
    "    for root_dir, subdirs, files in os.walk(root):\n",
    "        for filename in files:\n",
    "            file_path = os.path.join(root_dir, filename)\n",
    "            retlist.append(file_path)\n",
    "    \n",
    "    return retlist\n",
    "files = filelist(\"~/data/slate/\")"
   ]
  },
  {
   "cell_type": "markdown",
   "metadata": {},
   "source": [
    "The *files* variable is a list which contains around ~4500 articles from the online magazine Slate in a .txt format"
   ]
  },
  {
   "cell_type": "markdown",
   "metadata": {},
   "source": [
    "file content"
   ]
  },
  {
   "cell_type": "code",
   "execution_count": 34,
   "metadata": {},
   "outputs": [
    {
     "data": {
      "text/plain": [
       "'\\n   \\n   \\n      \\n         \\n             Dress To Thrill\\n\\n            Coming to work on the bus the other day, I sat\\nacross the aisle from a woman who was probably in her 50s. She was plain\\nlooking and plainly dressed. I guessed her to be a household worker. Her slip\\nwas showing. That is not unusual. What struck me was that the hem of her slip\\nwas lace.\\n\\n            I spontaneously said to myself, \"What a pitiful\\nattempt at elegance!\" But when I got off the bus and ruminated on it, I\\nrealized that'"
      ]
     },
     "execution_count": 34,
     "metadata": {},
     "output_type": "execute_result"
    }
   ],
   "source": [
    "get_text(files[1])[:500]"
   ]
  },
  {
   "cell_type": "markdown",
   "metadata": {},
   "source": [
    "# Linear Search\n",
    "\n",
    "terms = ['picture','perfect','for','and','because','since']\n"
   ]
  },
  {
   "cell_type": "code",
   "execution_count": 43,
   "metadata": {},
   "outputs": [
    {
     "data": {
      "text/plain": [
       "['Article247_3653.txt',\n",
       " 'Article247_4014.txt',\n",
       " 'ArticleIP_1268.txt',\n",
       " 'ArticleIP_1553.txt',\n",
       " 'ArticleIP_2725.txt',\n",
       " 'ArticleIP_2911.txt',\n",
       " 'ArticleIP_2922.txt',\n",
       " 'ArticleIP_2941.txt',\n",
       " 'ArticleIP_4062.txt',\n",
       " 'ArticleIP_20511.txt',\n",
       " 'ArticleIP_25134.txt',\n",
       " 'ArticleIP_25161.txt',\n",
       " 'ArticleIP_32882.txt',\n",
       " 'ArticleIP_38823.txt',\n",
       " 'ArticleIP_56271.txt']"
      ]
     },
     "execution_count": 43,
     "metadata": {},
     "output_type": "execute_result"
    }
   ],
   "source": [
    "def linear_search(files, terms):\n",
    "    retlist = []\n",
    "    corpus = [words(get_text(file)) for file in files]\n",
    "    for i in range(len(files)):\n",
    "        if set(terms) <= set(corpus[i]):\n",
    "            retlist.append(files[i])\n",
    "    return filenames(retlist)\n",
    "\n",
    "\n",
    "terms = ['icture','perpfect','for','and','because','since']\n",
    "linear_search(files,terms)"
   ]
  },
  {
   "cell_type": "markdown",
   "metadata": {},
   "source": [
    "# Time Spent: 1.28 second"
   ]
  },
  {
   "cell_type": "code",
   "execution_count": 48,
   "metadata": {
    "scrolled": true
   },
   "outputs": [
    {
     "name": "stdout",
     "output_type": "stream",
     "text": [
      "CPU times: user 1.18 s, sys: 93.4 ms, total: 1.28 s\n",
      "Wall time: 1.28 s\n"
     ]
    },
    {
     "data": {
      "text/plain": [
       "['Article247_3653.txt',\n",
       " 'Article247_4014.txt',\n",
       " 'ArticleIP_1268.txt',\n",
       " 'ArticleIP_1553.txt',\n",
       " 'ArticleIP_2725.txt',\n",
       " 'ArticleIP_2911.txt',\n",
       " 'ArticleIP_2922.txt',\n",
       " 'ArticleIP_2941.txt',\n",
       " 'ArticleIP_4062.txt',\n",
       " 'ArticleIP_20511.txt',\n",
       " 'ArticleIP_25134.txt',\n",
       " 'ArticleIP_25161.txt',\n",
       " 'ArticleIP_32882.txt',\n",
       " 'ArticleIP_38823.txt',\n",
       " 'ArticleIP_56271.txt']"
      ]
     },
     "execution_count": 48,
     "metadata": {},
     "output_type": "execute_result"
    }
   ],
   "source": [
    "%time linear_search(files,terms)"
   ]
  },
  {
   "cell_type": "code",
   "execution_count": 44,
   "metadata": {},
   "outputs": [],
   "source": [
    "#Htable\n",
    "\n",
    "def htable(nbuckets):\n",
    "    return [[]]*nbuckets\n",
    "\n",
    "def hashcode(o):\n",
    "    if isinstance(o, int):\n",
    "        return o\n",
    "    elif isinstance(o, str):\n",
    "        h = 0\n",
    "        for c in o:\n",
    "            h = h * 31 + ord(c)\n",
    "        return h\n",
    "    else:\n",
    "        return None\n",
    "\n",
    "def bucket_indexof(table, key):\n",
    "    return hashcode(key) % len(table)\n",
    "    \n",
    "def htable_put(table, key, value):\n",
    "    index = bucket_indexof(table, key)\n",
    "    bucket = table[index]\n",
    "\n",
    "    # Filter out existing (key, value) pairs with the same key\n",
    "    bucket = [(k, v) for k, v in bucket if k != key]\n",
    "\n",
    "    # Append the new (key, value) pair\n",
    "    bucket.append((key, value))\n",
    "\n",
    "    # Update the bucket in the table\n",
    "    table[index] = bucket\n",
    "\n",
    "    return table\n",
    "\n",
    "def htable_get(table, key):\n",
    "    index = bucket_indexof(table, key)\n",
    "    bucket = table[index]\n",
    "\n",
    "    for pair in bucket:\n",
    "        if key == pair[0]:\n",
    "            return pair[1]\n",
    "    return None\n"
   ]
  },
  {
   "cell_type": "code",
   "execution_count": 45,
   "metadata": {},
   "outputs": [],
   "source": [
    "def myhtable_create_index(files):\n",
    "    wordtab = htable(4011)\n",
    "    for doc in files:\n",
    "        wordlist = set(words(get_text(doc)))\n",
    "        for word in wordlist:\n",
    "            oldval = htable_get(wordtab,word)\n",
    "            if oldval:\n",
    "                newval = oldval\n",
    "            else:\n",
    "                newval = []\n",
    "            newval.append(doc)\n",
    "            wordtab = htable_put(wordtab,word,newval)\n",
    "    return wordtab\n",
    "\n",
    "\n",
    "def myhtable_index_search(files, index, terms):\n",
    "    sets_list = []\n",
    "    for w in terms:\n",
    "        info = htable_get(index, w)\n",
    "        if info:\n",
    "            sets_list.append(set(info))\n",
    "    \n",
    "    if not sets_list:\n",
    "        return sets_list\n",
    "\n",
    "    # Calculate the intersection of all sets in the 'sets_list' using set.intersection. The * unpacks the sets\n",
    "    allmatches = set.intersection(*sets_list)\n",
    "    \n",
    "    return allmatches.intersection(set(files))"
   ]
  },
  {
   "cell_type": "code",
   "execution_count": 49,
   "metadata": {},
   "outputs": [
    {
     "name": "stdout",
     "output_type": "stream",
     "text": [
      "CPU times: user 14.7 s, sys: 57.5 ms, total: 14.8 s\n",
      "Wall time: 14.8 s\n"
     ]
    }
   ],
   "source": [
    "%time index = myhtable_create_index(files)"
   ]
  },
  {
   "cell_type": "markdown",
   "metadata": {},
   "source": [
    "# Time Spent: 613 µs\n",
    "\n",
    "1 second = 1,000,000 microseconds"
   ]
  },
  {
   "cell_type": "code",
   "execution_count": 53,
   "metadata": {},
   "outputs": [
    {
     "name": "stdout",
     "output_type": "stream",
     "text": [
      "CPU times: user 609 µs, sys: 0 ns, total: 609 µs\n",
      "Wall time: 613 µs\n"
     ]
    },
    {
     "data": {
      "text/plain": [
       "{'/home/karthik/data/slate/13/Article247_3653.txt',\n",
       " '/home/karthik/data/slate/17/Article247_4014.txt',\n",
       " '/home/karthik/data/slate/24/ArticleIP_1268.txt',\n",
       " '/home/karthik/data/slate/27/ArticleIP_1553.txt',\n",
       " '/home/karthik/data/slate/39/ArticleIP_2725.txt',\n",
       " '/home/karthik/data/slate/40/ArticleIP_2911.txt',\n",
       " '/home/karthik/data/slate/40/ArticleIP_2922.txt',\n",
       " '/home/karthik/data/slate/40/ArticleIP_2941.txt',\n",
       " '/home/karthik/data/slate/48/ArticleIP_4062.txt',\n",
       " '/home/karthik/data/slate/50/ArticleIP_20511.txt',\n",
       " '/home/karthik/data/slate/50/ArticleIP_25134.txt',\n",
       " '/home/karthik/data/slate/50/ArticleIP_25161.txt',\n",
       " '/home/karthik/data/slate/51/ArticleIP_32882.txt',\n",
       " '/home/karthik/data/slate/51/ArticleIP_38823.txt',\n",
       " '/home/karthik/data/slate/53/ArticleIP_56271.txt'}"
      ]
     },
     "execution_count": 53,
     "metadata": {},
     "output_type": "execute_result"
    }
   ],
   "source": [
    "%time myhtable_index_search(files, index, terms)"
   ]
  },
  {
   "cell_type": "code",
   "execution_count": null,
   "metadata": {},
   "outputs": [],
   "source": []
  }
 ],
 "metadata": {
  "kernelspec": {
   "display_name": "Python 3 (ipykernel)",
   "language": "python",
   "name": "python3"
  },
  "language_info": {
   "codemirror_mode": {
    "name": "ipython",
    "version": 3
   },
   "file_extension": ".py",
   "mimetype": "text/x-python",
   "name": "python",
   "nbconvert_exporter": "python",
   "pygments_lexer": "ipython3",
   "version": "3.11.3"
  }
 },
 "nbformat": 4,
 "nbformat_minor": 2
}
