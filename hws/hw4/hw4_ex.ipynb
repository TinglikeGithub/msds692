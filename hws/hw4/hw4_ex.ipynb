{
 "cells": [
  {
   "cell_type": "code",
   "execution_count": 8,
   "metadata": {},
   "outputs": [],
   "source": [
    "import os\n",
    "from words import *\n",
    "from htable import *"
   ]
  },
  {
   "cell_type": "code",
   "execution_count": 2,
   "metadata": {},
   "outputs": [],
   "source": [
    "\n",
    "def linear_search(files, terms):\n",
    "    output = []\n",
    "    for file in files:\n",
    "        file_word = words(get_text(file))\n",
    "        count = 0\n",
    "        for term in terms:\n",
    "            if term in file_word:\n",
    "                count += 1\n",
    "        if count == len(terms):\n",
    "            output.append(file)\n",
    "    return output"
   ]
  },
  {
   "cell_type": "code",
   "execution_count": 11,
   "metadata": {},
   "outputs": [],
   "source": [
    "rootdir = os.path.expanduser(\"~/data/berlitz1\")\n",
    "files = filelist(rootdir)\n",
    "terms=\"hawaii travel\"\n",
    "terms = words(terms)"
   ]
  },
  {
   "cell_type": "code",
   "execution_count": 5,
   "metadata": {},
   "outputs": [
    {
     "name": "stdout",
     "output_type": "stream",
     "text": [
      "CPU times: user 101 ms, sys: 7.01 ms, total: 108 ms\n",
      "Wall time: 116 ms\n"
     ]
    },
    {
     "data": {
      "text/plain": [
       "['/Users/tingpan/data/berlitz1/HistoryHawaii.txt']"
      ]
     },
     "execution_count": 5,
     "metadata": {},
     "output_type": "execute_result"
    }
   ],
   "source": [
    "# linear search\n",
    "# terms=\"hawaii travel\"\n",
    "%time linear_search(files, terms)"
   ]
  },
  {
   "cell_type": "code",
   "execution_count": 13,
   "metadata": {},
   "outputs": [],
   "source": [
    "def myhtable_create_index(files):\n",
    "    table = htable(4011)\n",
    "\n",
    "    for doc_id, file in enumerate(files):\n",
    "        word = words(get_text(file))\n",
    "        for w in word:\n",
    "            table_index = hashcode(w) % len(table)\n",
    "            bucket = table[table_index]\n",
    "            found = False\n",
    "            for item in bucket:\n",
    "                if item[0] == w:\n",
    "                    item[1].add(doc_id)\n",
    "                    found = True\n",
    "                    break\n",
    "            if not found:\n",
    "                table[table_index].append([w, {doc_id}])\n",
    "    return table\n",
    "\n",
    "def myhtable_index_search(files, index, terms):\n",
    "    inter = htable_get(index, terms[0])\n",
    "    if htable_get(index, terms[0]) is not None:\n",
    "        for term in terms[1:]:\n",
    "            inter &= htable_get(index, term)\n",
    "        return [files[i] for i in inter]\n",
    "    else:\n",
    "        return []"
   ]
  },
  {
   "cell_type": "code",
   "execution_count": 14,
   "metadata": {},
   "outputs": [
    {
     "name": "stdout",
     "output_type": "stream",
     "text": [
      "CPU times: user 11 µs, sys: 0 ns, total: 11 µs\n",
      "Wall time: 14.1 µs\n"
     ]
    },
    {
     "data": {
      "text/plain": [
       "['/Users/tingpan/data/berlitz1/HistoryHawaii.txt']"
      ]
     },
     "execution_count": 14,
     "metadata": {},
     "output_type": "execute_result"
    }
   ],
   "source": [
    "# htable search\n",
    "index = myhtable_create_index(files)\n",
    "%time myhtable_index_search(files, index, terms)"
   ]
  },
  {
   "cell_type": "code",
   "execution_count": null,
   "metadata": {},
   "outputs": [],
   "source": []
  }
 ],
 "metadata": {
  "kernelspec": {
   "display_name": "base",
   "language": "python",
   "name": "python3"
  },
  "language_info": {
   "codemirror_mode": {
    "name": "ipython",
    "version": 3
   },
   "file_extension": ".py",
   "mimetype": "text/x-python",
   "name": "python",
   "nbconvert_exporter": "python",
   "pygments_lexer": "ipython3",
   "version": "3.11.3"
  },
  "orig_nbformat": 4
 },
 "nbformat": 4,
 "nbformat_minor": 2
}
