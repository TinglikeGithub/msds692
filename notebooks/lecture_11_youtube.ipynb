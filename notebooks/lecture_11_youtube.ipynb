{
 "cells": [
  {
   "cell_type": "markdown",
   "id": "049b30aa-c81d-4f3a-b466-80941dac26af",
   "metadata": {},
   "source": [
    "## YouTube\n",
    "\n",
    "YouTube will grant us access to its data without requiring authentication, but we must generate a secret ID or key.\n",
    "\n",
    "Follow these steps to get set up:\n",
    "\n",
    "1. [Get a google account](https://www.google.com/accounts) if you don't already have one.\n",
    "2. Go to the [Google API Console](https://console.developers.google.com/) and create a project (e.g. msds692).\n",
    "3. Enable the \"YouTube Data API v3\" API from your console.\n",
    "\n",
    "[Never store your API key in your code](https://www.zdnet.com/article/over-100000-github-repos-have-leaked-api-or-cryptographic-keys/).\n",
    "\n",
    "Take a look at the [API documentation](https://developers.google.com/youtube/v3/) and install some Python code that will simplify our tasks:\n",
    "\n",
    "```bash\n",
    "$ pip install google-api-python-client\n",
    "```\n"
   ]
  },
  {
   "cell_type": "code",
   "execution_count": 12,
   "id": "a016b62c-dacf-4b37-b677-49e0bb1a4832",
   "metadata": {
    "tags": []
   },
   "outputs": [],
   "source": [
    "import sys\n",
    "import urllib\n",
    "from googleapiclient.discovery import build\n",
    "\n",
    "DEVELOPER_KEY = !cat ~/api_key/google_key"
   ]
  },
  {
   "cell_type": "code",
   "execution_count": 17,
   "id": "5f4ea07e-efd3-4b5e-991b-47450b5a8a50",
   "metadata": {
    "tags": []
   },
   "outputs": [],
   "source": [
    "youtube = build(\"youtube\", \"v3\", developerKey=?)"
   ]
  },
  {
   "cell_type": "markdown",
   "id": "be8a284a-7ac0-4522-9ab4-90f9b5e52605",
   "metadata": {},
   "source": [
    "### Retrieve Video Information"
   ]
  },
  {
   "cell_type": "code",
   "execution_count": 18,
   "id": "6e169b88-a97a-4edc-b707-a6e1dd0aa07b",
   "metadata": {
    "tags": []
   },
   "outputs": [],
   "source": [
    "video_id = 'pRpeEdMmmQ0'\n",
    "video_response = youtube.videos().list(\n",
    "            part=\"snippet,statistics\",\n",
    "            id=video_id).execute()"
   ]
  },
  {
   "cell_type": "code",
   "execution_count": 19,
   "id": "28151c6b",
   "metadata": {},
   "outputs": [
    {
     "data": {
      "text/plain": [
       "{'kind': 'youtube#videoListResponse',\n",
       " 'etag': 'wM0gq9mDwijDitrz1sq-x0y4IsU',\n",
       " 'items': [{'kind': 'youtube#video',\n",
       "   'etag': 'wVos9nGyts2XDJoBtwZ4hv5pXXo',\n",
       "   'id': 'pRpeEdMmmQ0',\n",
       "   'snippet': {'publishedAt': '2010-06-04T22:30:35Z',\n",
       "    'channelId': 'UCGnjeahCJW1AF34HBmQTJ-Q',\n",
       "    'title': 'Shakira - Waka Waka (This Time for Africa) (The Official 2010 FIFA World Cup™ Song)',\n",
       "    'description': 'Watch the official music video for \"Waka Waka (This Time for Africa) [The Official 2010 FIFA World Cup (TM) Song]\" by Shakira\\nListen to Shakira: https://Shakira.lnk.to/listen_YD\\n\\nSubscribe to the official Shakira youtube channel: https://Shakira.lnk.to/subscribeYD\\n\\nWatch more of Shakira\\'s Music Videos: https://Shakira.lnk.to/listen_YC/youtube\\n\\nFollow Shakira:\\nFacebook: https://Shakira.lnk.to/followFI\\nInstagram: https://Shakira.lnk.to/followII\\nTwitter: https://Shakira.lnk.to/followTI\\nWebsite: https://Shakira.lnk.to/followWI\\nSpotify: https://Shakira.lnk.to/followSI\\nYouTube: https://Shakira.lnk.to/subscribeYD\\n\\nLyrics:\\n\\nYou\\'re a good soldier\\nChoosing your battles\\nPick yourself up\\nAnd dust yourself off\\nGet back in the saddle\\n\\nYou\\'re on the front line\\nEveryone\\'s watching\\nYou know it\\'s serious\\nWe\\'re getting closer\\nThis isn\\'t over\\n\\nThe pressure\\'s on\\nYou feel it\\nBut you got it all\\nBelieve it\\n\\nWhen you fall get up, oh oh\\nIf you fall get up, eh eh\\nTsamina mina zangalewa\\n\\'Cause this is Africa\\n\\nTsamina mina, eh eh\\nWaka waka, eh eh\\nTsamina mina zangalewa\\nThis time for Africa\"\\n\\n#Shakira #WakaWaka #ThisTimeForAfrica #OfficialMusicVideo',\n",
       "    'thumbnails': {'default': {'url': 'https://i.ytimg.com/vi/pRpeEdMmmQ0/default.jpg',\n",
       "      'width': 120,\n",
       "      'height': 90},\n",
       "     'medium': {'url': 'https://i.ytimg.com/vi/pRpeEdMmmQ0/mqdefault.jpg',\n",
       "      'width': 320,\n",
       "      'height': 180},\n",
       "     'high': {'url': 'https://i.ytimg.com/vi/pRpeEdMmmQ0/hqdefault.jpg',\n",
       "      'width': 480,\n",
       "      'height': 360},\n",
       "     'standard': {'url': 'https://i.ytimg.com/vi/pRpeEdMmmQ0/sddefault.jpg',\n",
       "      'width': 640,\n",
       "      'height': 480},\n",
       "     'maxres': {'url': 'https://i.ytimg.com/vi/pRpeEdMmmQ0/maxresdefault.jpg',\n",
       "      'width': 1280,\n",
       "      'height': 720}},\n",
       "    'channelTitle': 'shakiraVEVO',\n",
       "    'tags': ['shakira',\n",
       "     'world cup song',\n",
       "     'Shakiravevo',\n",
       "     'Shakira Waka Waka (This Time For Africa)',\n",
       "     'waka waka',\n",
       "     'Waka Waka',\n",
       "     'This Time for Africa',\n",
       "     'FIFA World Cup Song',\n",
       "     'FIFA song',\n",
       "     'Whenever Whenever',\n",
       "     'Shakira Waka Waka official',\n",
       "     'Addicted to You',\n",
       "     'Hips Dont Lie',\n",
       "     'Waka Waka en espanol',\n",
       "     'hips dont lie',\n",
       "     'whenever wherever',\n",
       "     'Waka Waka live',\n",
       "     'super bowl',\n",
       "     'superbowl',\n",
       "     'super bowl halftime',\n",
       "     'halftime show',\n",
       "     'shakira halftime',\n",
       "     'JLO halftime',\n",
       "     'jennifer lopez halftime',\n",
       "     'Epic',\n",
       "     'Pop',\n",
       "     'Shakira',\n",
       "     'Waka'],\n",
       "    'categoryId': '10',\n",
       "    'liveBroadcastContent': 'none',\n",
       "    'localized': {'title': 'Shakira - Waka Waka (This Time for Africa) (The Official 2010 FIFA World Cup™ Song)',\n",
       "     'description': 'Watch the official music video for \"Waka Waka (This Time for Africa) [The Official 2010 FIFA World Cup (TM) Song]\" by Shakira\\nListen to Shakira: https://Shakira.lnk.to/listen_YD\\n\\nSubscribe to the official Shakira youtube channel: https://Shakira.lnk.to/subscribeYD\\n\\nWatch more of Shakira\\'s Music Videos: https://Shakira.lnk.to/listen_YC/youtube\\n\\nFollow Shakira:\\nFacebook: https://Shakira.lnk.to/followFI\\nInstagram: https://Shakira.lnk.to/followII\\nTwitter: https://Shakira.lnk.to/followTI\\nWebsite: https://Shakira.lnk.to/followWI\\nSpotify: https://Shakira.lnk.to/followSI\\nYouTube: https://Shakira.lnk.to/subscribeYD\\n\\nLyrics:\\n\\nYou\\'re a good soldier\\nChoosing your battles\\nPick yourself up\\nAnd dust yourself off\\nGet back in the saddle\\n\\nYou\\'re on the front line\\nEveryone\\'s watching\\nYou know it\\'s serious\\nWe\\'re getting closer\\nThis isn\\'t over\\n\\nThe pressure\\'s on\\nYou feel it\\nBut you got it all\\nBelieve it\\n\\nWhen you fall get up, oh oh\\nIf you fall get up, eh eh\\nTsamina mina zangalewa\\n\\'Cause this is Africa\\n\\nTsamina mina, eh eh\\nWaka waka, eh eh\\nTsamina mina zangalewa\\nThis time for Africa\"\\n\\n#Shakira #WakaWaka #ThisTimeForAfrica #OfficialMusicVideo'},\n",
       "    'defaultAudioLanguage': 'en-US'},\n",
       "   'statistics': {'viewCount': '3740213210',\n",
       "    'likeCount': '21699574',\n",
       "    'favoriteCount': '0',\n",
       "    'commentCount': '1308541'}}],\n",
       " 'pageInfo': {'totalResults': 1, 'resultsPerPage': 1}}"
      ]
     },
     "execution_count": 19,
     "metadata": {},
     "output_type": "execute_result"
    }
   ],
   "source": [
    "video_response"
   ]
  },
  {
   "cell_type": "code",
   "execution_count": 7,
   "id": "ccb6c692-47e6-4b89-a8c9-7a2f3e1648e0",
   "metadata": {
    "tags": []
   },
   "outputs": [
    {
     "data": {
      "text/plain": [
       "'Shakira - Waka Waka (This Time for Africa) (The Official 2010 FIFA World Cup™ Song)'"
      ]
     },
     "execution_count": 7,
     "metadata": {},
     "output_type": "execute_result"
    }
   ],
   "source": [
    "video_response['items'][0]['snippet']['title']"
   ]
  },
  {
   "cell_type": "code",
   "execution_count": 33,
   "id": "e68f70d5-e489-4709-919a-054633fee11b",
   "metadata": {
    "tags": []
   },
   "outputs": [
    {
     "data": {
      "text/plain": [
       "dict_keys(['kind', 'etag', 'id', 'snippet', 'statistics'])"
      ]
     },
     "execution_count": 33,
     "metadata": {},
     "output_type": "execute_result"
    }
   ],
   "source": [
    "video_response['items'][0].keys()"
   ]
  },
  {
   "cell_type": "code",
   "execution_count": 20,
   "id": "24e310d4-a5ee-40db-aa7f-a8e94349f145",
   "metadata": {
    "tags": []
   },
   "outputs": [
    {
     "data": {
      "text/plain": [
       "{'viewCount': '3740213210',\n",
       " 'likeCount': '21699574',\n",
       " 'favoriteCount': '0',\n",
       " 'commentCount': '1308541'}"
      ]
     },
     "execution_count": 20,
     "metadata": {},
     "output_type": "execute_result"
    }
   ],
   "source": [
    "video_response['items'][0]['statistics']"
   ]
  },
  {
   "cell_type": "markdown",
   "id": "c2714080-19d1-4df8-b10e-8ecfb8bbb8da",
   "metadata": {},
   "source": [
    "### Search for Videos based on keywords"
   ]
  },
  {
   "cell_type": "code",
   "execution_count": 21,
   "id": "27896721-b6d0-4055-85fe-9b107dbd9574",
   "metadata": {
    "tags": []
   },
   "outputs": [],
   "source": [
    "QUERY = \"k-pop\""
   ]
  },
  {
   "cell_type": "code",
   "execution_count": 36,
   "id": "d6acc7e5-f920-44a4-9cfb-c6f683640679",
   "metadata": {
    "tags": []
   },
   "outputs": [],
   "source": [
    "search_response = youtube.search().list(\n",
    "    q=QUERY,            # search terms\n",
    "    part=\"id,snippet\",  # what we want back\n",
    "    maxResults=20,      # how many results we want back\n",
    "    type=\"video\"        # only tell me about videos\n",
    ").execute()"
   ]
  },
  {
   "cell_type": "code",
   "execution_count": 37,
   "id": "acf2df13-01b2-4642-b34b-c918af08522f",
   "metadata": {
    "tags": []
   },
   "outputs": [
    {
     "data": {
      "text/plain": [
       "dict_keys(['kind', 'etag', 'nextPageToken', 'regionCode', 'pageInfo', 'items'])"
      ]
     },
     "execution_count": 37,
     "metadata": {},
     "output_type": "execute_result"
    }
   ],
   "source": [
    "search_response.keys()"
   ]
  },
  {
   "cell_type": "code",
   "execution_count": 38,
   "id": "6f7b4584-b7a4-45f4-bb17-a89489ad7ad7",
   "metadata": {
    "tags": []
   },
   "outputs": [
    {
     "data": {
      "text/plain": [
       "['Travis Scott, Bad Bunny, The Weeknd - K-POP (Official Music Video)',\n",
       " 'Travis Scott, Bad Bunny, The Weeknd - K-POP (Official Audio)',\n",
       " 'ITZY “CAKE” M/V @ITZY',\n",
       " 'NewJeans (뉴진스) &#39;Super Shy&#39; Official MV',\n",
       " '(여자)아이들((G)I-DLE) - &#39;퀸카 (Queencard)&#39; Official Music Video',\n",
       " 'BLACKPINK THE GAME - ‘THE GIRLS’ MV',\n",
       " 'Stray Kids &quot;특(S-Class)&quot; M/V',\n",
       " '정국 (Jung Kook) &#39;Seven (feat. Latto)&#39; Official MV',\n",
       " 'How Lisa’s family is in Danger…#shorts#lisa#blackpink#kpop#kpopidol#fyp#fypシ',\n",
       " 'SEVENTEEN (세븐틴) &#39;손오공&#39; Official MV',\n",
       " 'KPOP PLAYLIST 2023 💖🐰 K-POP Lite',\n",
       " 'IVE 아이브 &#39;I AM&#39; MV',\n",
       " 'NewJeans (뉴진스) &#39;OMG&#39; Official MV (Performance ver.1)',\n",
       " 'ENHYPEN (엔하이픈) &#39;Bite Me&#39; Official MV',\n",
       " 'KPOP PLAYLIST 2023 💖💖 K-POP Lite',\n",
       " '(여자)아이들((G)I-DLE) - &#39;퀸카 (Queencard)&#39; M/V (Performance Ver.)',\n",
       " 'aespa 에스파 &#39;Spicy&#39; MV',\n",
       " 'FIFTY FIFTY (피프티피프티) - &#39;Cupid&#39;  Official MV',\n",
       " 'JISOO - ‘꽃(FLOWER)’ M/V',\n",
       " '[𝑷𝒍𝒂𝒚𝒍𝒊𝒔𝒕] 24/7 💘4세대 걸그룹💘 플레이리스트 | K-POP Girl Group']"
      ]
     },
     "execution_count": 38,
     "metadata": {},
     "output_type": "execute_result"
    }
   ],
   "source": [
    "[item['snippet']['title'] for item in search_response['items']]"
   ]
  },
  {
   "cell_type": "markdown",
   "id": "fffed2bd-78dd-4767-adcb-0db27d4a2234",
   "metadata": {},
   "source": [
    "### Retrieve Channel Information"
   ]
  },
  {
   "cell_type": "code",
   "execution_count": 22,
   "id": "98595f7d-64de-4d3d-9fc2-a2cbfe006c2b",
   "metadata": {
    "tags": []
   },
   "outputs": [],
   "source": [
    "channel_id = 'UCXUPKJO5MZQN11PqgIvyuvQ'\n",
    "channel_response = youtube.channels().list(\n",
    "            part=\"snippet,statistics\",\n",
    "            id=channel_id).execute()"
   ]
  },
  {
   "cell_type": "code",
   "execution_count": 23,
   "id": "dd2729b3-7c44-450c-bee4-a3f4e041f989",
   "metadata": {
    "tags": []
   },
   "outputs": [
    {
     "data": {
      "text/plain": [
       "{'kind': 'youtube#channelListResponse',\n",
       " 'etag': '5wisQwmFypXYp0BiQHNYO8y9awU',\n",
       " 'pageInfo': {'totalResults': 1, 'resultsPerPage': 5},\n",
       " 'items': [{'kind': 'youtube#channel',\n",
       "   'etag': 'obkEhmxxOuJWjQTkNHBaFw_ynGE',\n",
       "   'id': 'UCXUPKJO5MZQN11PqgIvyuvQ',\n",
       "   'snippet': {'title': 'Andrej Karpathy',\n",
       "    'description': 'My motivation for creating this channel: https://twitter.com/karpathy/status/1577746577463967745\\n\\nFAQ\\nQ: How can I pay you? Do you have a Patreon or etc?\\nA: As YouTube partner I do share in a small amount of the ad revenue on the videos, but I don\\'t maintain any other extra payment channels. I would prefer that people \"pay me back\" by using the knowledge to build something great.\\n',\n",
       "    'customUrl': '@andrejkarpathy',\n",
       "    'publishedAt': '2013-09-07T08:21:13Z',\n",
       "    'thumbnails': {'default': {'url': 'https://yt3.ggpht.com/ytc/APkrFKYFOSxGL4HypEGJ_1rOLkzUlT7qvOiflHFqKTonUrs=s88-c-k-c0x00ffffff-no-rj',\n",
       "      'width': 88,\n",
       "      'height': 88},\n",
       "     'medium': {'url': 'https://yt3.ggpht.com/ytc/APkrFKYFOSxGL4HypEGJ_1rOLkzUlT7qvOiflHFqKTonUrs=s240-c-k-c0x00ffffff-no-rj',\n",
       "      'width': 240,\n",
       "      'height': 240},\n",
       "     'high': {'url': 'https://yt3.ggpht.com/ytc/APkrFKYFOSxGL4HypEGJ_1rOLkzUlT7qvOiflHFqKTonUrs=s800-c-k-c0x00ffffff-no-rj',\n",
       "      'width': 800,\n",
       "      'height': 800}},\n",
       "    'localized': {'title': 'Andrej Karpathy',\n",
       "     'description': 'My motivation for creating this channel: https://twitter.com/karpathy/status/1577746577463967745\\n\\nFAQ\\nQ: How can I pay you? Do you have a Patreon or etc?\\nA: As YouTube partner I do share in a small amount of the ad revenue on the videos, but I don\\'t maintain any other extra payment channels. I would prefer that people \"pay me back\" by using the knowledge to build something great.\\n'},\n",
       "    'country': 'US'},\n",
       "   'statistics': {'viewCount': '5215896',\n",
       "    'subscriberCount': '235000',\n",
       "    'hiddenSubscriberCount': False,\n",
       "    'videoCount': '12'}}]}"
      ]
     },
     "execution_count": 23,
     "metadata": {},
     "output_type": "execute_result"
    }
   ],
   "source": [
    "channel_response"
   ]
  },
  {
   "cell_type": "markdown",
   "id": "3187a9e4-f48e-4ea8-af6e-c6d2edef9fee",
   "metadata": {},
   "source": [
    "### How to find channel id\n",
    "you cannot lookup a channel using @AndrejKarpathy"
   ]
  },
  {
   "cell_type": "code",
   "execution_count": 28,
   "id": "a5cc7015-4cf4-4f2d-9dae-0f501d851403",
   "metadata": {
    "tags": []
   },
   "outputs": [],
   "source": [
    "query ='Andrej Karpathy'"
   ]
  },
  {
   "cell_type": "code",
   "execution_count": 25,
   "id": "2d484c5f-c470-4f90-9a17-0f46b07ac2fc",
   "metadata": {
    "tags": []
   },
   "outputs": [],
   "source": [
    "search_response = youtube.search().list(\n",
    "    q=query,           \n",
    "    part=\"id,snippet\",  \n",
    "    maxResults=20,      \n",
    "    type=\"channel\"       \n",
    ").execute()"
   ]
  },
  {
   "cell_type": "code",
   "execution_count": 64,
   "id": "d0c79d5b-4fa4-47d8-9325-1b6b39b45180",
   "metadata": {
    "tags": []
   },
   "outputs": [
    {
     "data": {
      "text/plain": [
       "{'kind': 'youtube#channel', 'channelId': 'UCXUPKJO5MZQN11PqgIvyuvQ'}"
      ]
     },
     "execution_count": 64,
     "metadata": {},
     "output_type": "execute_result"
    }
   ],
   "source": [
    "search_response['items'][0]['id']"
   ]
  },
  {
   "cell_type": "markdown",
   "id": "8a3eb089-0f1d-4efd-951d-6cd5d9b4cfe9",
   "metadata": {},
   "source": [
    "## Exercise 1\n",
    "Make a dataframe with the 10 most popular videos by Andrej Karpathy (his channel is ok). You should get the title, year, number of views and likes.\n",
    "\n",
    "Hint: use chatgpt to understand how to get top videos."
   ]
  },
  {
   "cell_type": "code",
   "execution_count": 38,
   "id": "e6357c61",
   "metadata": {},
   "outputs": [],
   "source": [
    "query ='Andrej Karpathy'\n",
    "search_response = youtube.search().list(\n",
    "    q=query,            # search terms\n",
    "    part=\"id,snippet\",  # what we want back\n",
    "    maxResults=10,      # how many results we want back\n",
    "    type=\"video\",\n",
    "    order ='viewCount'\n",
    ").execute()"
   ]
  },
  {
   "cell_type": "markdown",
   "id": "9d358c15-73d2-4e78-b091-71ad58933cbe",
   "metadata": {},
   "source": [
    "## Exercise 2\n",
    "Find Peter Attia's channel id. Find the top 10 videos. Get comments from all the videos.\n",
    "https://www.youtube.com/@PeterAttiaMD/about"
   ]
  },
  {
   "cell_type": "code",
   "execution_count": 39,
   "id": "d2f90390-4f9d-4536-a191-078cee432d82",
   "metadata": {},
   "outputs": [
    {
     "data": {
      "text/plain": [
       "{'kind': 'youtube#searchListResponse',\n",
       " 'etag': 'G2OywhnGPiEEJOqvknVkylkYmJ8',\n",
       " 'nextPageToken': 'CAoQAA',\n",
       " 'regionCode': 'US',\n",
       " 'pageInfo': {'totalResults': 25044, 'resultsPerPage': 10},\n",
       " 'items': [{'kind': 'youtube#searchResult',\n",
       "   'etag': 'GooZIkea890foDmpR9WWDMs76vU',\n",
       "   'id': {'kind': 'youtube#video', 'videoId': 'kCc8FmEb1nY'},\n",
       "   'snippet': {'publishedAt': '2023-01-17T16:33:27Z',\n",
       "    'channelId': 'UCXUPKJO5MZQN11PqgIvyuvQ',\n",
       "    'title': 'Let&#39;s build GPT: from scratch, in code, spelled out.',\n",
       "    'description': 'We build a Generatively Pretrained Transformer (GPT), following the paper \"Attention is All You Need\" and OpenAI\\'s GPT-2 ...',\n",
       "    'thumbnails': {'default': {'url': 'https://i.ytimg.com/vi/kCc8FmEb1nY/default.jpg',\n",
       "      'width': 120,\n",
       "      'height': 90},\n",
       "     'medium': {'url': 'https://i.ytimg.com/vi/kCc8FmEb1nY/mqdefault.jpg',\n",
       "      'width': 320,\n",
       "      'height': 180},\n",
       "     'high': {'url': 'https://i.ytimg.com/vi/kCc8FmEb1nY/hqdefault.jpg',\n",
       "      'width': 480,\n",
       "      'height': 360}},\n",
       "    'channelTitle': 'Andrej Karpathy',\n",
       "    'liveBroadcastContent': 'none',\n",
       "    'publishTime': '2023-01-17T16:33:27Z'}},\n",
       "  {'kind': 'youtube#searchResult',\n",
       "   'etag': '9X_CKI0PdCj__B6KuIW14zBiaug',\n",
       "   'id': {'kind': 'youtube#video', 'videoId': 'cdiD-9MMpb0'},\n",
       "   'snippet': {'publishedAt': '2022-10-29T16:37:23Z',\n",
       "    'channelId': 'UCSHZKyawb77ixDdsGog4iWA',\n",
       "    'title': 'Andrej Karpathy: Tesla AI, Self-Driving, Optimus, Aliens, and AGI | Lex Fridman Podcast #333',\n",
       "    'description': \"Andrej Karpathy is a legendary AI researcher, engineer, and educator. He's the former director of AI at Tesla, a founding member ...\",\n",
       "    'thumbnails': {'default': {'url': 'https://i.ytimg.com/vi/cdiD-9MMpb0/default.jpg',\n",
       "      'width': 120,\n",
       "      'height': 90},\n",
       "     'medium': {'url': 'https://i.ytimg.com/vi/cdiD-9MMpb0/mqdefault.jpg',\n",
       "      'width': 320,\n",
       "      'height': 180},\n",
       "     'high': {'url': 'https://i.ytimg.com/vi/cdiD-9MMpb0/hqdefault.jpg',\n",
       "      'width': 480,\n",
       "      'height': 360}},\n",
       "    'channelTitle': 'Lex Fridman',\n",
       "    'liveBroadcastContent': 'none',\n",
       "    'publishTime': '2022-10-29T16:37:23Z'}},\n",
       "  {'kind': 'youtube#searchResult',\n",
       "   'etag': 'ibfpXPuGGBtBEWTYlKIBIaBxRz4',\n",
       "   'id': {'kind': 'youtube#video', 'videoId': 'VMj-3S1tku0'},\n",
       "   'snippet': {'publishedAt': '2022-08-16T22:44:26Z',\n",
       "    'channelId': 'UCXUPKJO5MZQN11PqgIvyuvQ',\n",
       "    'title': 'The spelled-out intro to neural networks and backpropagation: building micrograd',\n",
       "    'description': 'This is the most step-by-step spelled-out explanation of backpropagation and training of neural networks. It only assumes basic ...',\n",
       "    'thumbnails': {'default': {'url': 'https://i.ytimg.com/vi/VMj-3S1tku0/default.jpg',\n",
       "      'width': 120,\n",
       "      'height': 90},\n",
       "     'medium': {'url': 'https://i.ytimg.com/vi/VMj-3S1tku0/mqdefault.jpg',\n",
       "      'width': 320,\n",
       "      'height': 180},\n",
       "     'high': {'url': 'https://i.ytimg.com/vi/VMj-3S1tku0/hqdefault.jpg',\n",
       "      'width': 480,\n",
       "      'height': 360}},\n",
       "    'channelTitle': 'Andrej Karpathy',\n",
       "    'liveBroadcastContent': 'none',\n",
       "    'publishTime': '2022-08-16T22:44:26Z'}},\n",
       "  {'kind': 'youtube#searchResult',\n",
       "   'etag': 'nvNqiSRQ8LitWDGLXcNi8n4XDTc',\n",
       "   'id': {'kind': 'youtube#video', 'videoId': 'iG6ZG6drl8M'},\n",
       "   'snippet': {'publishedAt': '2022-10-30T06:00:14Z',\n",
       "    'channelId': 'UCJIfeSCssxSC_Dhc5s7woww',\n",
       "    'title': 'Alien civilizations are everywhere | Andrej Karpathy and Lex Fridman',\n",
       "    'description': 'Lex Fridman Podcast full episode: https://www.youtube.com/watch?v=cdiD-9MMpb0 Please support this podcast by checking out ...',\n",
       "    'thumbnails': {'default': {'url': 'https://i.ytimg.com/vi/iG6ZG6drl8M/default.jpg',\n",
       "      'width': 120,\n",
       "      'height': 90},\n",
       "     'medium': {'url': 'https://i.ytimg.com/vi/iG6ZG6drl8M/mqdefault.jpg',\n",
       "      'width': 320,\n",
       "      'height': 180},\n",
       "     'high': {'url': 'https://i.ytimg.com/vi/iG6ZG6drl8M/hqdefault.jpg',\n",
       "      'width': 480,\n",
       "      'height': 360}},\n",
       "    'channelTitle': 'Lex Clips',\n",
       "    'liveBroadcastContent': 'none',\n",
       "    'publishTime': '2022-10-30T06:00:14Z'}},\n",
       "  {'kind': 'youtube#searchResult',\n",
       "   'etag': 'Ex4CWKvCMXfURrgIxJDFfBebXLY',\n",
       "   'id': {'kind': 'youtube#video', 'videoId': 'I2ZK3ngNvvI'},\n",
       "   'snippet': {'publishedAt': '2022-10-31T20:00:04Z',\n",
       "    'channelId': 'UCJIfeSCssxSC_Dhc5s7woww',\n",
       "    'title': 'Advice for machine learning beginners | Andrej Karpathy and Lex Fridman',\n",
       "    'description': 'Lex Fridman Podcast full episode: https://www.youtube.com/watch?v=cdiD-9MMpb0 Please support this podcast by checking out ...',\n",
       "    'thumbnails': {'default': {'url': 'https://i.ytimg.com/vi/I2ZK3ngNvvI/default.jpg',\n",
       "      'width': 120,\n",
       "      'height': 90},\n",
       "     'medium': {'url': 'https://i.ytimg.com/vi/I2ZK3ngNvvI/mqdefault.jpg',\n",
       "      'width': 320,\n",
       "      'height': 180},\n",
       "     'high': {'url': 'https://i.ytimg.com/vi/I2ZK3ngNvvI/hqdefault.jpg',\n",
       "      'width': 480,\n",
       "      'height': 360}},\n",
       "    'channelTitle': 'Lex Clips',\n",
       "    'liveBroadcastContent': 'none',\n",
       "    'publishTime': '2022-10-31T20:00:04Z'}},\n",
       "  {'kind': 'youtube#searchResult',\n",
       "   'etag': 'wS9zfKzsDxv1DNktW8lmdGWP-IY',\n",
       "   'id': {'kind': 'youtube#video', 'videoId': 'bZQun8Y4L2A'},\n",
       "   'snippet': {'publishedAt': '2023-05-25T07:07:44Z',\n",
       "    'channelId': 'UCsMica-v34Irf9KVTh6xx-g',\n",
       "    'title': 'State of GPT | BRK216HFS',\n",
       "    'description': 'Learn about the training pipeline of GPT assistants like ChatGPT, from tokenization to pretraining, supervised finetuning, and ...',\n",
       "    'thumbnails': {'default': {'url': 'https://i.ytimg.com/vi/bZQun8Y4L2A/default.jpg',\n",
       "      'width': 120,\n",
       "      'height': 90},\n",
       "     'medium': {'url': 'https://i.ytimg.com/vi/bZQun8Y4L2A/mqdefault.jpg',\n",
       "      'width': 320,\n",
       "      'height': 180},\n",
       "     'high': {'url': 'https://i.ytimg.com/vi/bZQun8Y4L2A/hqdefault.jpg',\n",
       "      'width': 480,\n",
       "      'height': 360}},\n",
       "    'channelTitle': 'Microsoft Developer',\n",
       "    'liveBroadcastContent': 'none',\n",
       "    'publishTime': '2023-05-25T07:07:44Z'}},\n",
       "  {'kind': 'youtube#searchResult',\n",
       "   'etag': 'pSkQs4jURLJhkez5Pc39nCMMhhg',\n",
       "   'id': {'kind': 'youtube#video', 'videoId': 'oBklltKXtDE'},\n",
       "   'snippet': {'publishedAt': '2019-11-06T19:40:21Z',\n",
       "    'channelId': 'UCWXI5YeOsh03QvJ59PMaXFw',\n",
       "    'title': 'PyTorch at Tesla - Andrej Karpathy, Tesla',\n",
       "    'description': 'Hear from Andrej Karpathy on how Tesla is using PyTorch to develop full self-driving capabilities for its vehicles, including ...',\n",
       "    'thumbnails': {'default': {'url': 'https://i.ytimg.com/vi/oBklltKXtDE/default.jpg',\n",
       "      'width': 120,\n",
       "      'height': 90},\n",
       "     'medium': {'url': 'https://i.ytimg.com/vi/oBklltKXtDE/mqdefault.jpg',\n",
       "      'width': 320,\n",
       "      'height': 180},\n",
       "     'high': {'url': 'https://i.ytimg.com/vi/oBklltKXtDE/hqdefault.jpg',\n",
       "      'width': 480,\n",
       "      'height': 360}},\n",
       "    'channelTitle': 'PyTorch',\n",
       "    'liveBroadcastContent': 'none',\n",
       "    'publishTime': '2019-11-06T19:40:21Z'}},\n",
       "  {'kind': 'youtube#searchResult',\n",
       "   'etag': '0uRex5kyLlSWZ-gdE0rW7kjLKwg',\n",
       "   'id': {'kind': 'youtube#video', 'videoId': 'NfnWJUyUJYU'},\n",
       "   'snippet': {'publishedAt': '2016-01-05T04:02:22Z',\n",
       "    'channelId': 'UCPk8m_r6fkUSYmvgCBwq-sw',\n",
       "    'title': 'CS231n Winter 2016: Lecture1: Introduction and Historical Context',\n",
       "    'description': 'Stanford Winter Quarter 2016 class: CS231n: Convolutional Neural Networks for Visual Recognition. Lecture 1. Get in touch on ...',\n",
       "    'thumbnails': {'default': {'url': 'https://i.ytimg.com/vi/NfnWJUyUJYU/default.jpg',\n",
       "      'width': 120,\n",
       "      'height': 90},\n",
       "     'medium': {'url': 'https://i.ytimg.com/vi/NfnWJUyUJYU/mqdefault.jpg',\n",
       "      'width': 320,\n",
       "      'height': 180},\n",
       "     'high': {'url': 'https://i.ytimg.com/vi/NfnWJUyUJYU/hqdefault.jpg',\n",
       "      'width': 480,\n",
       "      'height': 360}},\n",
       "    'channelTitle': 'Andrej Karpathy',\n",
       "    'liveBroadcastContent': 'none',\n",
       "    'publishTime': '2016-01-05T04:02:22Z'}},\n",
       "  {'kind': 'youtube#searchResult',\n",
       "   'etag': 'mXP1gC-r08kg9561k9vc7ck8uzQ',\n",
       "   'id': {'kind': 'youtube#video', 'videoId': 'PaCmpygFfXo'},\n",
       "   'snippet': {'publishedAt': '2022-09-07T19:14:47Z',\n",
       "    'channelId': 'UCXUPKJO5MZQN11PqgIvyuvQ',\n",
       "    'title': 'The spelled-out intro to language modeling: building makemore',\n",
       "    'description': 'We implement a bigram character-level language model, which we will further complexify in followup videos into a modern ...',\n",
       "    'thumbnails': {'default': {'url': 'https://i.ytimg.com/vi/PaCmpygFfXo/default.jpg',\n",
       "      'width': 120,\n",
       "      'height': 90},\n",
       "     'medium': {'url': 'https://i.ytimg.com/vi/PaCmpygFfXo/mqdefault.jpg',\n",
       "      'width': 320,\n",
       "      'height': 180},\n",
       "     'high': {'url': 'https://i.ytimg.com/vi/PaCmpygFfXo/hqdefault.jpg',\n",
       "      'width': 480,\n",
       "      'height': 360}},\n",
       "    'channelTitle': 'Andrej Karpathy',\n",
       "    'liveBroadcastContent': 'none',\n",
       "    'publishTime': '2022-09-07T19:14:47Z'}},\n",
       "  {'kind': 'youtube#searchResult',\n",
       "   'etag': 'gBZm7f3b0Mjggp93Xh95Q3Uw4z0',\n",
       "   'id': {'kind': 'youtube#video', 'videoId': 'hx7BXih7zx8'},\n",
       "   'snippet': {'publishedAt': '2020-04-20T21:25:12Z',\n",
       "    'channelId': 'UCR85FcguqcxLQ7XEg1byAtQ',\n",
       "    'title': 'Andrej Karpathy - AI for Full-Self Driving at Tesla',\n",
       "    'description': 'For more talks and to view corresponding slides, go to scaledml.org, select [media archive]. Presented at the 5th Annual Scaled ...',\n",
       "    'thumbnails': {'default': {'url': 'https://i.ytimg.com/vi/hx7BXih7zx8/default.jpg',\n",
       "      'width': 120,\n",
       "      'height': 90},\n",
       "     'medium': {'url': 'https://i.ytimg.com/vi/hx7BXih7zx8/mqdefault.jpg',\n",
       "      'width': 320,\n",
       "      'height': 180},\n",
       "     'high': {'url': 'https://i.ytimg.com/vi/hx7BXih7zx8/hqdefault.jpg',\n",
       "      'width': 480,\n",
       "      'height': 360}},\n",
       "    'channelTitle': 'Matroid',\n",
       "    'liveBroadcastContent': 'none',\n",
       "    'publishTime': '2020-04-20T21:25:12Z'}}]}"
      ]
     },
     "execution_count": 39,
     "metadata": {},
     "output_type": "execute_result"
    }
   ],
   "source": [
    "search_response"
   ]
  },
  {
   "cell_type": "code",
   "execution_count": 53,
   "id": "aef6b12f",
   "metadata": {},
   "outputs": [
    {
     "data": {
      "text/plain": [
       "'kCc8FmEb1nY'"
      ]
     },
     "execution_count": 53,
     "metadata": {},
     "output_type": "execute_result"
    }
   ],
   "source": [
    "search_response['items'][0]['id']['videoId']"
   ]
  },
  {
   "cell_type": "code",
   "execution_count": 55,
   "id": "49548e82",
   "metadata": {},
   "outputs": [
    {
     "ename": "KeyError",
     "evalue": "0",
     "output_type": "error",
     "traceback": [
      "\u001b[0;31m---------------------------------------------------------------------------\u001b[0m",
      "\u001b[0;31mKeyError\u001b[0m                                  Traceback (most recent call last)",
      "\u001b[1;32m/Users/tingpan/Desktop/USF/692_data_acquicition/msds692/notebooks/lecture_11_youtube.ipynb Cell 27\u001b[0m line \u001b[0;36m3\n\u001b[1;32m      <a href='vscode-notebook-cell:/Users/tingpan/Desktop/USF/692_data_acquicition/msds692/notebooks/lecture_11_youtube.ipynb#X36sZmlsZQ%3D%3D?line=0'>1</a>\u001b[0m video_id \u001b[39m=\u001b[39m []\n\u001b[1;32m      <a href='vscode-notebook-cell:/Users/tingpan/Desktop/USF/692_data_acquicition/msds692/notebooks/lecture_11_youtube.ipynb#X36sZmlsZQ%3D%3D?line=1'>2</a>\u001b[0m \u001b[39mfor\u001b[39;00m item \u001b[39min\u001b[39;00m search_response[\u001b[39m'\u001b[39m\u001b[39mitems\u001b[39m\u001b[39m'\u001b[39m]:\n\u001b[0;32m----> <a href='vscode-notebook-cell:/Users/tingpan/Desktop/USF/692_data_acquicition/msds692/notebooks/lecture_11_youtube.ipynb#X36sZmlsZQ%3D%3D?line=2'>3</a>\u001b[0m     video_id\u001b[39m.\u001b[39mappend(item[\u001b[39m0\u001b[39m][\u001b[39m'\u001b[39m\u001b[39mid\u001b[39m\u001b[39m'\u001b[39m][\u001b[39m'\u001b[39m\u001b[39mvideoId\u001b[39m\u001b[39m'\u001b[39m])\n\u001b[1;32m      <a href='vscode-notebook-cell:/Users/tingpan/Desktop/USF/692_data_acquicition/msds692/notebooks/lecture_11_youtube.ipynb#X36sZmlsZQ%3D%3D?line=3'>4</a>\u001b[0m video_id\n",
      "\u001b[0;31mKeyError\u001b[0m: 0"
     ]
    }
   ],
   "source": [
    "video_id = []\n",
    "for item in search_response['items']:\n",
    "    video_id.append(item[0]['id']['videoId'])\n",
    "video_id"
   ]
  },
  {
   "cell_type": "code",
   "execution_count": null,
   "id": "9a553812",
   "metadata": {},
   "outputs": [],
   "source": []
  }
 ],
 "metadata": {
  "kernelspec": {
   "display_name": "Python 3 (ipykernel)",
   "language": "python",
   "name": "python3"
  },
  "language_info": {
   "codemirror_mode": {
    "name": "ipython",
    "version": 3
   },
   "file_extension": ".py",
   "mimetype": "text/x-python",
   "name": "python",
   "nbconvert_exporter": "python",
   "pygments_lexer": "ipython3",
   "version": "3.11.3"
  }
 },
 "nbformat": 4,
 "nbformat_minor": 5
}
