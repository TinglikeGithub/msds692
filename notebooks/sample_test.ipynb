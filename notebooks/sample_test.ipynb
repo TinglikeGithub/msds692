{
 "cells": [
  {
   "cell_type": "code",
   "execution_count": 4,
   "id": "c409f80c-1274-4232-940e-34b064816c27",
   "metadata": {
    "tags": []
   },
   "outputs": [],
   "source": [
    "from selenium import webdriver\n",
    "from selenium.webdriver.support.ui import Select\n",
    "from selenium.webdriver.common.by import By\n",
    "import time"
   ]
  },
  {
   "cell_type": "code",
   "execution_count": 5,
   "id": "162753a2-5785-42c1-a6f1-e5a2be7ff49c",
   "metadata": {
    "tags": []
   },
   "outputs": [],
   "source": [
    "website=\"https://www.redfin.com/neighborhood/202/CA/San-Francisco/Bernal-Heights/new-listings\""
   ]
  },
  {
   "cell_type": "code",
   "execution_count": 7,
   "id": "c44dd29d-624c-47c3-a059-836e1b90ae93",
   "metadata": {
    "tags": []
   },
   "outputs": [],
   "source": [
    "driver = webdriver.Chrome()\n",
    "driver.maximize_window()\n",
    "# Visit the website\n",
    "driver.get(website)"
   ]
  },
  {
   "cell_type": "code",
   "execution_count": null,
   "id": "6e89bfd0-5d78-4064-9087-f1ab9ef2fa22",
   "metadata": {
    "tags": []
   },
   "outputs": [],
   "source": [
    "# complete this code here\n",
    "listing = driver.find_elements(By.XPATH, '   ')"
   ]
  },
  {
   "cell_type": "code",
   "execution_count": 8,
   "id": "b103f2b8-b876-48e9-865e-d2aa892ee110",
   "metadata": {
    "tags": []
   },
   "outputs": [],
   "source": [
    "driver.quit()"
   ]
  },
  {
   "cell_type": "code",
   "execution_count": null,
   "id": "0b16e9b6-a21a-4c51-a98d-3555a081cb67",
   "metadata": {},
   "outputs": [],
   "source": []
  }
 ],
 "metadata": {
  "kernelspec": {
   "display_name": "Python 3 (ipykernel)",
   "language": "python",
   "name": "python3"
  },
  "language_info": {
   "codemirror_mode": {
    "name": "ipython",
    "version": 3
   },
   "file_extension": ".py",
   "mimetype": "text/x-python",
   "name": "python",
   "nbconvert_exporter": "python",
   "pygments_lexer": "ipython3",
   "version": "3.11.4"
  }
 },
 "nbformat": 4,
 "nbformat_minor": 5
}
