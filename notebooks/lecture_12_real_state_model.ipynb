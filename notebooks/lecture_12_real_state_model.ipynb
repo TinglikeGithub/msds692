{
 "cells": [
  {
   "cell_type": "code",
   "execution_count": 49,
   "id": "d91d87ef",
   "metadata": {
    "tags": []
   },
   "outputs": [],
   "source": [
    "from pathlib import Path\n",
    "import numpy as np\n",
    "import pandas as pd\n",
    "import pickle\n",
    "from os.path import expanduser\n",
    "from collections import Counter\n",
    "import string\n",
    "import re"
   ]
  },
  {
   "cell_type": "code",
   "execution_count": 90,
   "id": "9ff578ee",
   "metadata": {
    "tags": []
   },
   "outputs": [],
   "source": [
    "filename = expanduser(\"~/data/houses_for_sale.pickle\")\n",
    "with open(filename,'rb') as f:\n",
    "    data = pickle.load(f, encoding='utf-8')"
   ]
  },
  {
   "cell_type": "markdown",
   "id": "f130461b-9348-409a-8569-0d2ee9d30388",
   "metadata": {},
   "source": [
    "This dataset was acquired by scraping a website that compiles property listings available for sale in Spain. Our objective is to leverage this data to gain insights into properties that offer a favorable value proposition for potential buyers."
   ]
  },
  {
   "cell_type": "code",
   "execution_count": 91,
   "id": "fe94cedd",
   "metadata": {
    "tags": []
   },
   "outputs": [
    {
     "data": {
      "text/plain": [
       "913"
      ]
     },
     "execution_count": 91,
     "metadata": {},
     "output_type": "execute_result"
    }
   ],
   "source": [
    "len(data)"
   ]
  },
  {
   "cell_type": "code",
   "execution_count": 92,
   "id": "d8d9c623-3370-4af2-8058-188da0d90d12",
   "metadata": {
    "tags": []
   },
   "outputs": [
    {
     "data": {
      "text/plain": [
       "{'price': '320.000 €',\n",
       " 'title': 'Piso Tallers. Piso con 2 habitaciones con ascensor',\n",
       " 'loc_string': 'Barcelona - Sant Antoni',\n",
       " 'loc': None,\n",
       " 'features': ['85 m2', '2 hab.', '1 baño', '3.647 €/m2'],\n",
       " 'type': 'FLAT',\n",
       " 'subtype': 'FLAT',\n",
       " 'selltype': 'SECOND_HAND',\n",
       " 'desc': 'Piso en última planta a reformar en calle Tallers junto a plaza Universitat.\\n\\nLa propiedad ofrece muchas posibilidades para personalizarla según sus necesidades, ya que todas las paredes son tabiques.\\n\\nLa distribución actual cuenta con salón comedor amplio, cocina, dos habitaciones dobles exteriores, dos habitaciones interiores, baño y despensa/trastero. Balcones a ambos lados de la vivienda, uno a patio de manzana y los otros dos a carrer Tallers. Suelos originales.\\n\\nFinca del 1882 con ascensor.\\n\\nCalle peatonal con encanto en el centro de Barcelona, rodeada de todo tipo de comercios y servicios. Buenas comunicaciones mediante transportes publicos, metro, autobuses y FFCC.'}"
      ]
     },
     "execution_count": 92,
     "metadata": {},
     "output_type": "execute_result"
    }
   ],
   "source": [
    "# data is a list of dictionaries\n",
    "data[0]"
   ]
  },
  {
   "cell_type": "markdown",
   "id": "a5c4976f",
   "metadata": {},
   "source": [
    "## Removing ads from multiple units\n",
    "If features starts with \"desde\" it means that the ad is advertising multiple units. See for example this add in which the price is None and features start with \"desde\"."
   ]
  },
  {
   "cell_type": "code",
   "execution_count": 93,
   "id": "2586ddce-7ca9-4735-92a7-db5aa3dd50c3",
   "metadata": {
    "tags": []
   },
   "outputs": [],
   "source": [
    "#data[10]"
   ]
  },
  {
   "cell_type": "code",
   "execution_count": 94,
   "id": "edd3ce79",
   "metadata": {
    "tags": []
   },
   "outputs": [],
   "source": [
    "data[10]['price']"
   ]
  },
  {
   "cell_type": "code",
   "execution_count": 95,
   "id": "0d50433d-31b3-493c-a18f-66166b0f26aa",
   "metadata": {
    "tags": []
   },
   "outputs": [
    {
     "data": {
      "text/plain": [
       "['desde 70 m2', '15.785,71 €/m2']"
      ]
     },
     "execution_count": 95,
     "metadata": {},
     "output_type": "execute_result"
    }
   ],
   "source": [
    "data[10]['features']"
   ]
  },
  {
   "cell_type": "code",
   "execution_count": 96,
   "id": "6630395d",
   "metadata": {
    "tags": []
   },
   "outputs": [
    {
     "data": {
      "text/plain": [
       "(True, False)"
      ]
     },
     "execution_count": 96,
     "metadata": {},
     "output_type": "execute_result"
    }
   ],
   "source": [
    " bool(re.match(\"^desde\", 'desde 70 m2')),  bool(re.match(\"^desde\", '70 m2'))"
   ]
  },
  {
   "cell_type": "code",
   "execution_count": 97,
   "id": "db2a9c44",
   "metadata": {
    "tags": []
   },
   "outputs": [],
   "source": [
    "data_v1 = [] \n",
    "for i, d in enumerate(data):\n",
    "    features = d[\"features\"]\n",
    "    if bool(re.match(\"^desde\", features[0])) == False:\n",
    "        if bool(re.search(\"\\d+ m2\", features[0])) == True:\n",
    "            data_v1.append(d)"
   ]
  },
  {
   "cell_type": "code",
   "execution_count": 98,
   "id": "1ce8e1d3-eba4-4ef9-8c47-f4fff4b75b8c",
   "metadata": {
    "tags": []
   },
   "outputs": [],
   "source": [
    "def saving_versions(data, version):\n",
    "    filename = expanduser(\"~/data\")\n",
    "    filename +=  \"/houses_for_sale_train_{}.pickle\".format(version)\n",
    "    file = open(filename, 'wb')\n",
    "    pickle.dump(data, file)\n",
    "    file.close()\n",
    "    print(filename)\n",
    "    \n",
    "def load_versions(version):\n",
    "    filename = expanduser(\"~/data\")\n",
    "    filename += \"/houses_for_sale_train_{}.pickle\".format(version)\n",
    "    with open(filename,'rb') as f:\n",
    "        data = pickle.load(f, encoding='utf-8')\n",
    "    return data"
   ]
  },
  {
   "cell_type": "code",
   "execution_count": 99,
   "id": "a2020dd7",
   "metadata": {
    "tags": []
   },
   "outputs": [
    {
     "name": "stdout",
     "output_type": "stream",
     "text": [
      "/Users/yinterian/data/houses_for_sale_train_v1.pickle\n"
     ]
    },
    {
     "data": {
      "text/plain": [
       "866"
      ]
     },
     "execution_count": 99,
     "metadata": {},
     "output_type": "execute_result"
    }
   ],
   "source": [
    "# saving the new version of the data\n",
    "saving_versions(data_v1, \"v1\")\n",
    "len(data_v1)"
   ]
  },
  {
   "cell_type": "markdown",
   "id": "c04d812b",
   "metadata": {},
   "source": [
    "### Checking number of rooms feature\n",
    "and fixing issues"
   ]
  },
  {
   "cell_type": "code",
   "execution_count": 100,
   "id": "159844d4",
   "metadata": {
    "tags": []
   },
   "outputs": [
    {
     "data": {
      "text/plain": [
       "866"
      ]
     },
     "execution_count": 100,
     "metadata": {},
     "output_type": "execute_result"
    }
   ],
   "source": [
    "data_v1 = load_versions(\"v1\")\n",
    "len(data_v1)"
   ]
  },
  {
   "cell_type": "code",
   "execution_count": 101,
   "id": "bf4c5a5f-64b1-4837-8261-8cf61e1ba3ea",
   "metadata": {
    "tags": []
   },
   "outputs": [
    {
     "data": {
      "text/plain": [
       "[['85 m2', '2 hab.', '1 baño', '3.647 €/m2'],\n",
       " ['65 m2', '2 hab.', '1 baño', '5.000 €/m2'],\n",
       " ['77 m2', '2 hab.', '1 baño', '4.286 €/m2'],\n",
       " ['96 m2', '3 hab.', '2 baños', '4.531 €/m2'],\n",
       " ['84 m2', '2 hab.', '1 baño', '4.881 €/m2'],\n",
       " ['91 m2', '4 hab.', '2 baños', '4.780 €/m2'],\n",
       " ['96 m2', '2 hab.', '2 baños', '4.271 €/m2'],\n",
       " ['76 m2', '2 hab.', '1 baño', '4.605 €/m2'],\n",
       " ['103 m2', '3 hab.', '2 baños', '4.223 €/m2'],\n",
       " ['82 m2', '3 hab.', '1 baño', '2.988 €/m2']]"
      ]
     },
     "execution_count": 101,
     "metadata": {},
     "output_type": "execute_result"
    }
   ],
   "source": [
    "[d[\"features\"] for d in data_v1[:10]]"
   ]
  },
  {
   "cell_type": "code",
   "execution_count": 102,
   "id": "70706c62",
   "metadata": {
    "tags": []
   },
   "outputs": [
    {
     "data": {
      "text/plain": [
       "True"
      ]
     },
     "execution_count": 102,
     "metadata": {},
     "output_type": "execute_result"
    }
   ],
   "source": [
    "bool(re.match(\"\\d hab\", '3 hab.'))"
   ]
  },
  {
   "cell_type": "code",
   "execution_count": 103,
   "id": "0841bed2",
   "metadata": {
    "tags": []
   },
   "outputs": [
    {
     "name": "stdout",
     "output_type": "stream",
     "text": [
      "137 ['45 m2', '1 baño', '5.689 €/m2']\n",
      "186 ['113 m2', '4 baños', '2.389 €/m2']\n",
      "192 ['93 m2', '1 baño', '3.215 €/m2']\n",
      "503 ['54 m2', '1 baño', '6.944 €/m2']\n",
      "537 ['93 m2', '1 baño', '2.151 €/m2']\n",
      "574 ['102 m2', '1 baño', '3.431 €/m2']\n",
      "729 ['82 m2', '22 hab.', '1 baño', '4.268 €/m2']\n",
      "766 ['52 m2', '3.442 €/m2']\n"
     ]
    }
   ],
   "source": [
    "# listing without number of rooms\n",
    "inds = []\n",
    "for i, d in enumerate(data_v1):\n",
    "    features = d[\"features\"]\n",
    "    if not bool(re.match(\"\\d hab\", features[1])):\n",
    "        print(i, features)\n",
    "        inds.append(i)"
   ]
  },
  {
   "cell_type": "code",
   "execution_count": 104,
   "id": "3fde0f65",
   "metadata": {
    "tags": []
   },
   "outputs": [
    {
     "data": {
      "text/plain": [
       "[137, 186, 192, 503, 537, 574, 729, 766]"
      ]
     },
     "execution_count": 104,
     "metadata": {},
     "output_type": "execute_result"
    }
   ],
   "source": [
    "inds"
   ]
  },
  {
   "cell_type": "code",
   "execution_count": 105,
   "id": "6b2b288a",
   "metadata": {
    "tags": []
   },
   "outputs": [],
   "source": [
    "def get_new_feature(fea):\n",
    "    return [fea[0], \"0 hab.\", fea[1], fea[-1]]"
   ]
  },
  {
   "cell_type": "code",
   "execution_count": 106,
   "id": "471b82de",
   "metadata": {
    "tags": []
   },
   "outputs": [
    {
     "data": {
      "text/plain": [
       "['45 m2', '0 hab.', '1 baño', '5.689 €/m2']"
      ]
     },
     "execution_count": 106,
     "metadata": {},
     "output_type": "execute_result"
    }
   ],
   "source": [
    "# let's add \"0 hab.\" This is most likely a studio\n",
    "get_new_feature(['45 m2', '1 baño', '5.689 €/m2'])"
   ]
  },
  {
   "cell_type": "code",
   "execution_count": 107,
   "id": "7e08fe32",
   "metadata": {
    "tags": []
   },
   "outputs": [],
   "source": [
    "data_v2 = []\n",
    "for i, d in enumerate(data_v1):\n",
    "    features = d[\"features\"]\n",
    "    if not bool(re.match(\"\\d hab\", features[1])):\n",
    "        if len(features) == 3:\n",
    "            features = get_new_feature(features)\n",
    "            d[\"features\"] = features\n",
    "    if len(features) == 4:\n",
    "        data_v2.append(d)"
   ]
  },
  {
   "cell_type": "code",
   "execution_count": 108,
   "id": "41b7275d",
   "metadata": {
    "tags": []
   },
   "outputs": [
    {
     "name": "stdout",
     "output_type": "stream",
     "text": [
      "/Users/yinterian/data/houses_for_sale_train_v2.pickle\n"
     ]
    },
    {
     "data": {
      "text/plain": [
       "862"
      ]
     },
     "execution_count": 108,
     "metadata": {},
     "output_type": "execute_result"
    }
   ],
   "source": [
    "saving_versions(data_v2, \"v2\")\n",
    "len(data_v2)"
   ]
  },
  {
   "cell_type": "code",
   "execution_count": 109,
   "id": "bef5a292",
   "metadata": {
    "tags": []
   },
   "outputs": [
    {
     "data": {
      "text/plain": [
       "True"
      ]
     },
     "execution_count": 109,
     "metadata": {},
     "output_type": "execute_result"
    }
   ],
   "source": [
    "bool(re.match(\"\\d baño\", '1 baño'))"
   ]
  },
  {
   "cell_type": "code",
   "execution_count": 110,
   "id": "5f9f1fbb",
   "metadata": {
    "tags": []
   },
   "outputs": [],
   "source": [
    "# checking for bathrooms\n",
    "for i, d in enumerate(data_v2):\n",
    "    features = d[\"features\"]\n",
    "    if not bool(re.match(\"\\d baño\", features[2])):\n",
    "        print(i, features)"
   ]
  },
  {
   "cell_type": "code",
   "execution_count": 111,
   "id": "61c0f191",
   "metadata": {
    "tags": []
   },
   "outputs": [],
   "source": [
    "# checking the price\n",
    "for i, d in enumerate(data_v2):\n",
    "    if not bool(re.match(\"\\d+\\.\\d+ €\", d[\"price\"])):\n",
    "        print(i, features)"
   ]
  },
  {
   "cell_type": "markdown",
   "id": "d4ea10d5",
   "metadata": {},
   "source": [
    "### Task 1\n",
    "1. Tokenize descriptions (with SpaCy)\n",
    "2. Exclude stopwords (with SpaCy)\n",
    "3. Create a centroid vector in a similar fashion as the hw. Use Spacy word vector.\n",
    "4. Create a baseline *regression* model using just the centroid. Use R^2 as the metric. Use a linear model as well as a Random Forest model."
   ]
  },
  {
   "cell_type": "code",
   "execution_count": 112,
   "id": "3d3d5012",
   "metadata": {
    "tags": []
   },
   "outputs": [],
   "source": [
    "import spacy\n",
    "nlp = spacy.load(\"es_core_news_sm\")"
   ]
  },
  {
   "cell_type": "code",
   "execution_count": 113,
   "id": "83b8926e",
   "metadata": {
    "tags": []
   },
   "outputs": [
    {
     "data": {
      "text/plain": [
       "'Ubicado en la zona del Camp de l’Arpa, cerca de la Sagrada Familia y de zona dels Encants, encontramos este magnífico piso reformado de 65m2 con doble orientación y mucha luminosidad.\\n\\nEl piso se sitúa en la tercera planta real de esta finca clásica del año 1900.\\n\\nSu distribución actual se compone de un salón comedor exterior con salida a balcón, una cocina equipada y semi abierta, un dormitorio individual interior, un cuarto de baño completo con plato de ducha, un dormitorio doble amplio exterior a galería y patio de manzana. En la galería, se encuentra la zona de aguas y un trastero.\\n\\nLa vivienda goza de mucha luz natural y ventilación cruzada, el balcón orienta a noroeste.\\n\\nLa propiedad cuenta con suelos de parquet laminado de la marca Quickstep en la mayoría de las estancias y suelos de gres porcelánico en el baño.\\n\\nEl piso dispone de carpinterías de aluminio con doble acristalamiento, persianas eléctricas, calefacción y aire acondicionado por bomba de calor.\\n\\nLa finca está dotada de portero automático y de una terraza comunitaria muy disfrutable.\\n\\nLa finca NO dispone de ascensor. Ref. VB2304001'"
      ]
     },
     "execution_count": 113,
     "metadata": {},
     "output_type": "execute_result"
    }
   ],
   "source": [
    "text = data_v2[1][\"desc\"]\n",
    "text"
   ]
  },
  {
   "cell_type": "code",
   "execution_count": 210,
   "id": "01e38e25-a611-466d-a748-2ddf4becdac0",
   "metadata": {
    "tags": []
   },
   "outputs": [],
   "source": [
    "# use this for empty descriptions\n",
    "doc = nlp(\" \")\n",
    "empy_vector = np.array([tok.vector for tok in doc]).mean(axis=0)"
   ]
  },
  {
   "cell_type": "code",
   "execution_count": 115,
   "id": "5b7383b6",
   "metadata": {
    "tags": []
   },
   "outputs": [],
   "source": [
    "def get_centroid(text, empty_vector=empy_vector):\n",
    "    # Write your code here\n",
    "    return vector"
   ]
  },
  {
   "cell_type": "code",
   "execution_count": 116,
   "id": "244d6583",
   "metadata": {
    "tags": []
   },
   "outputs": [
    {
     "data": {
      "text/plain": [
       "(96,)"
      ]
     },
     "execution_count": 116,
     "metadata": {},
     "output_type": "execute_result"
    }
   ],
   "source": [
    "get_centroid(text).shape"
   ]
  },
  {
   "cell_type": "code",
   "execution_count": 117,
   "id": "6997383b",
   "metadata": {
    "tags": []
   },
   "outputs": [],
   "source": [
    "for d in data_v2:\n",
    "    d[\"centroid\"] = get_centroid(d[\"desc\"])"
   ]
  },
  {
   "cell_type": "markdown",
   "id": "c07f61ac",
   "metadata": {},
   "source": [
    "### Splitting into training and testing\n",
    "Training data is used to train the model Testing data is used to measure the preformance of the model."
   ]
  },
  {
   "cell_type": "code",
   "execution_count": 121,
   "id": "3dd8735a",
   "metadata": {
    "tags": []
   },
   "outputs": [
    {
     "name": "stdout",
     "output_type": "stream",
     "text": [
      "689\n"
     ]
    },
    {
     "data": {
      "text/plain": [
       "(689, 173)"
      ]
     },
     "execution_count": 121,
     "metadata": {},
     "output_type": "execute_result"
    }
   ],
   "source": [
    "import random\n",
    "random.seed(4)\n",
    "random.shuffle(data_v2)\n",
    "\n",
    "N = int(len(data_v2)*.8)\n",
    "print(N)\n",
    "\n",
    "train = data_v2[:N] \n",
    "test = data_v2[N:]\n",
    "\n",
    "len(train), len(test)"
   ]
  },
  {
   "cell_type": "markdown",
   "id": "4f1c22af-4b5d-4e05-ada1-68cdf023f355",
   "metadata": {
    "tags": []
   },
   "source": [
    "### Model with centroids"
   ]
  },
  {
   "cell_type": "code",
   "execution_count": 122,
   "id": "e1cb4b04-c63b-4f66-bd55-20baabcce055",
   "metadata": {
    "tags": []
   },
   "outputs": [],
   "source": [
    "# before runing this you need to fix the price\n",
    "\n",
    "X_train = [d[\"centroid\"] for d in train]\n",
    "X_test = [d[\"centroid\"] for d in test]\n",
    "y_train = [d[\"price\"] for d in train]\n",
    "y_test = [d[\"price\"] for d in test]"
   ]
  },
  {
   "cell_type": "code",
   "execution_count": 125,
   "id": "7004aafd-815b-4f1a-9dc7-dbba3c0847a0",
   "metadata": {
    "tags": []
   },
   "outputs": [],
   "source": [
    "from sklearn.ensemble import RandomForestRegressor\n",
    "from sklearn.metrics import r2_score"
   ]
  },
  {
   "cell_type": "code",
   "execution_count": 141,
   "id": "13259bd5-554a-44f2-87ff-2756c8bfb5bb",
   "metadata": {
    "tags": []
   },
   "outputs": [],
   "source": [
    "regr = RandomForestRegressor(n_estimators=50, max_depth=15, random_state=0)\n",
    "regr.fit(X_train, y_train)"
   ]
  },
  {
   "cell_type": "code",
   "execution_count": 142,
   "id": "e4c57053-47ec-4d13-8796-b4bd1aee0a8b",
   "metadata": {
    "tags": []
   },
   "outputs": [
    {
     "data": {
      "text/plain": [
       "0.8767592192269306"
      ]
     },
     "execution_count": 142,
     "metadata": {},
     "output_type": "execute_result"
    }
   ],
   "source": [
    "## here is prediction on train\n",
    "y_pred_train = regr.predict(X_train)\n",
    "r2_score(y_train, y_pred_train)"
   ]
  },
  {
   "cell_type": "code",
   "execution_count": 143,
   "id": "2c2885bd-49bc-4369-9358-0a2331ac9fc1",
   "metadata": {
    "tags": []
   },
   "outputs": [
    {
     "data": {
      "text/plain": [
       "0.15435532501046723"
      ]
     },
     "execution_count": 143,
     "metadata": {},
     "output_type": "execute_result"
    }
   ],
   "source": [
    "## here is prediction on test (not seen by the model)\n",
    "y_pred_test = regr.predict(X_test)\n",
    "r2_score(y_test, y_pred_test)"
   ]
  },
  {
   "cell_type": "markdown",
   "id": "a236df4b-06d8-49a7-b916-433f5673475f",
   "metadata": {},
   "source": [
    "This is not a very good model, can we improve it by including other features?"
   ]
  },
  {
   "cell_type": "markdown",
   "id": "819f430a",
   "metadata": {},
   "source": [
    "### Task 2: Add location features\n",
    "1. Fix issues with location strings.\n",
    "2. Encode the location as a categorical variable with an index.\n",
    "3. Concatenate the index to the centroid vector and retrain the model.\n",
    "4. Make a new key \"x\" by concatenting the centroid and loc\n",
    "5. Train a new model\n",
    "\n",
    "hint: np.concatenate can concatenate two numpy arrays"
   ]
  },
  {
   "cell_type": "code",
   "execution_count": 211,
   "id": "88ff8ad6-dbaa-45e9-b853-0acde777bc34",
   "metadata": {
    "tags": []
   },
   "outputs": [],
   "source": [
    "# your code here"
   ]
  },
  {
   "cell_type": "code",
   "execution_count": 169,
   "id": "b113f22f-b3d4-4570-9153-4a1c90a6a1b4",
   "metadata": {
    "tags": []
   },
   "outputs": [],
   "source": [
    "X_train = [d[\"x\"] for d in train]\n",
    "X_test = [d[\"x\"] for d in test]"
   ]
  },
  {
   "cell_type": "code",
   "execution_count": 212,
   "id": "8a9f988e-ccb2-47d8-bc17-a1a412715973",
   "metadata": {
    "tags": []
   },
   "outputs": [],
   "source": [
    "# your code here to train the model"
   ]
  },
  {
   "cell_type": "code",
   "execution_count": 171,
   "id": "496cfdc4-5b29-4f32-9a64-520db907cc59",
   "metadata": {
    "tags": []
   },
   "outputs": [
    {
     "data": {
      "text/plain": [
       "0.8760008578030183"
      ]
     },
     "execution_count": 171,
     "metadata": {},
     "output_type": "execute_result"
    }
   ],
   "source": [
    "y_pred_train = regr.predict(X_train)\n",
    "r2_score(y_train, y_pred_train)"
   ]
  },
  {
   "cell_type": "code",
   "execution_count": 172,
   "id": "75348d7a-d760-48da-bb73-c595164f3fc4",
   "metadata": {
    "tags": []
   },
   "outputs": [
    {
     "data": {
      "text/plain": [
       "0.1336770379720581"
      ]
     },
     "execution_count": 172,
     "metadata": {},
     "output_type": "execute_result"
    }
   ],
   "source": [
    "y_pred_test = regr.predict(X_test)\n",
    "r2_score(y_test, y_pred_test)"
   ]
  },
  {
   "cell_type": "markdown",
   "id": "51097c67-3bd4-4f38-9677-585e3fff97f5",
   "metadata": {},
   "source": [
    "### Task 3: add bathrooms, size and other features\n",
    "\n",
    "1. Add size, bedrooms and bathrooms\n",
    "2. Retrain the model"
   ]
  },
  {
   "cell_type": "code",
   "execution_count": 213,
   "id": "d74917a9-f7c1-4c8e-8b15-3dd2752da114",
   "metadata": {
    "tags": []
   },
   "outputs": [],
   "source": [
    "# your code here"
   ]
  },
  {
   "cell_type": "code",
   "execution_count": 180,
   "id": "8ab976c5-3a87-4653-b962-2e856b09f55e",
   "metadata": {
    "tags": []
   },
   "outputs": [],
   "source": [
    "X_train = [d[\"x\"] for d in train]\n",
    "X_test = [d[\"x\"] for d in test]"
   ]
  },
  {
   "cell_type": "code",
   "execution_count": 214,
   "id": "52ea72bf-0c62-4cb7-859e-ce74f7915a86",
   "metadata": {
    "tags": []
   },
   "outputs": [],
   "source": [
    "# your code here"
   ]
  },
  {
   "cell_type": "markdown",
   "id": "a3b66c5b-b870-4854-b294-8efac99d12d7",
   "metadata": {},
   "source": [
    "### Task 4:\n",
    "In this task we will experiment with individual words that might be useful. For example the word balcony (balcon, balcones) could be very useful.\n",
    "\n",
    "Provide a set of words, such as [\"balcón\", \"balcon\", \"balcones\"], introduce a feature that calculates the presence or absence of these words in the description.\n",
    "\n",
    "Write functions that will make it easier to add more words. Here are other potentially useful set of words: `[\"doble\", \"dobles\"], [\"exterior\", \"exteriores\"], [\"interior\", \"interiores\"]`"
   ]
  },
  {
   "cell_type": "code",
   "execution_count": 215,
   "id": "30e12453-897d-4d89-8d7a-87f46a28777a",
   "metadata": {
    "tags": []
   },
   "outputs": [],
   "source": [
    "key_words = [\"balcón\", \"balcon\", \"balcones\"]"
   ]
  },
  {
   "cell_type": "code",
   "execution_count": 216,
   "id": "30bfea83-5253-4fab-82e8-8b55bf07238d",
   "metadata": {
    "tags": []
   },
   "outputs": [],
   "source": [
    "# Your code here"
   ]
  },
  {
   "cell_type": "code",
   "execution_count": null,
   "id": "d9041579-c13f-438a-a9a7-70e421fd0f41",
   "metadata": {},
   "outputs": [],
   "source": []
  },
  {
   "cell_type": "markdown",
   "id": "d4f0b9f8-e1ef-4233-b1cb-63f2e314d323",
   "metadata": {},
   "source": [
    "### Other models\n",
    "Can you experiment with Gradient Boosting? Do you get better results?\n",
    "https://scikit-learn.org/stable/modules/generated/sklearn.ensemble.GradientBoostingRegressor.html"
   ]
  },
  {
   "cell_type": "markdown",
   "id": "2ac94d53-420d-435a-a525-2346d8b60184",
   "metadata": {},
   "source": [
    "## Finding good properties to buy.\n",
    "How can I use this model?"
   ]
  },
  {
   "cell_type": "code",
   "execution_count": 184,
   "id": "6247e054-14b0-4fa9-9d09-d7450a914125",
   "metadata": {
    "tags": []
   },
   "outputs": [
    {
     "data": {
      "text/plain": [
       "862"
      ]
     },
     "execution_count": 184,
     "metadata": {},
     "output_type": "execute_result"
    }
   ],
   "source": [
    "data = data_v2\n",
    "len(data)"
   ]
  },
  {
   "cell_type": "code",
   "execution_count": 185,
   "id": "9347d8c0-f9ef-4ecc-92e1-cd739901ad95",
   "metadata": {
    "tags": []
   },
   "outputs": [],
   "source": [
    "# divide data in 3 folds\n",
    "np.random.shuffle(data)\n",
    "\n",
    "# Calculate the size of each fold\n",
    "fold_size = len(data) // 3\n",
    "\n",
    "# Split the data into 3 folds\n",
    "fold1 = data[:fold_size]\n",
    "fold2 = data[fold_size:2 * fold_size]\n",
    "fold3 = data[2 * fold_size:]"
   ]
  },
  {
   "cell_type": "code",
   "execution_count": 189,
   "id": "338f395a-3a0c-4636-b8c2-f69a2fea580c",
   "metadata": {
    "tags": []
   },
   "outputs": [],
   "source": [
    "def train_model(foldA, foldB):\n",
    "    \"\"\" train model in two parts of the data\"\"\"\n",
    "    train = foldA + foldB\n",
    "    X_train = [d[\"x\"] for d in train]\n",
    "    y_train = [d[\"price\"] for d in train]\n",
    "    regr = RandomForestRegressor(n_estimators=50, max_depth=15, random_state=0)\n",
    "    regr.fit(X_train, y_train)\n",
    "    return regr"
   ]
  },
  {
   "cell_type": "code",
   "execution_count": 192,
   "id": "28670954-2e2f-49fe-9c98-7b53072afbb6",
   "metadata": {
    "tags": []
   },
   "outputs": [],
   "source": [
    "def make_predictions(foldC, regr):\n",
    "    \"\"\" Predict the price return the K listings that are the best values\n",
    "    \n",
    "    (according to the model)\n",
    "    \"\"\"\n",
    "    for d in foldC:\n",
    "        d[\"pred\"] = regr.predict([d[\"x\"]])[0]  "
   ]
  },
  {
   "cell_type": "code",
   "execution_count": 193,
   "id": "8b11d88c-1221-4168-aa89-69091a0bde0d",
   "metadata": {
    "tags": []
   },
   "outputs": [],
   "source": [
    "# train on 1 and 2 predict on 3\n",
    "regr = train_model(fold1, fold2)\n",
    "make_predictions(fold3, regr)"
   ]
  },
  {
   "cell_type": "code",
   "execution_count": 194,
   "id": "400a3191-0f55-43c7-8350-7a4b6fb175a2",
   "metadata": {
    "tags": []
   },
   "outputs": [],
   "source": [
    "# train on 2 and 3 predict on 1\n",
    "regr = train_model(fold2, fold3)\n",
    "make_predictions(fold1, regr)"
   ]
  },
  {
   "cell_type": "code",
   "execution_count": 195,
   "id": "c62e7ff0-c6ce-47a9-930e-b518f4a33809",
   "metadata": {
    "tags": []
   },
   "outputs": [],
   "source": [
    "# train on 1 and 3 predict on 2\n",
    "regr = train_model(fold1, fold3)\n",
    "make_predictions(fold2, regr)"
   ]
  },
  {
   "cell_type": "code",
   "execution_count": 197,
   "id": "536189dc-3c6f-413e-a576-7ba82ffe6d67",
   "metadata": {
    "tags": []
   },
   "outputs": [],
   "source": [
    "## find outliers\n",
    "# get a list of price - pred\n",
    "diff = [d[\"price\"] - d[\"pred\"] for d in data]"
   ]
  },
  {
   "cell_type": "code",
   "execution_count": 201,
   "id": "9dad0489-2947-46f6-b23f-b914be255fe7",
   "metadata": {
    "tags": []
   },
   "outputs": [],
   "source": [
    "# maybe better as ratio\n",
    "diff = [(d[\"price\"] - d[\"pred\"])/d[\"price\"] for d in data]"
   ]
  },
  {
   "cell_type": "code",
   "execution_count": 202,
   "id": "fe15f9e2-d00e-431b-bdbe-9ba30c6de52a",
   "metadata": {
    "tags": []
   },
   "outputs": [
    {
     "data": {
      "text/plain": [
       "[-1.4714333333333331,\n",
       " -0.979595387840671,\n",
       " -0.9631646060606062,\n",
       " -0.9265386243386242,\n",
       " -0.913641176470588,\n",
       " -0.8428592222222221,\n",
       " -0.8262333333333333,\n",
       " -0.8035875598086124,\n",
       " -0.7901197969543147,\n",
       " -0.7899468772433598]"
      ]
     },
     "execution_count": 202,
     "metadata": {},
     "output_type": "execute_result"
    }
   ],
   "source": [
    "sorted(diff)[:10]"
   ]
  },
  {
   "cell_type": "code",
   "execution_count": 204,
   "id": "341d3e6c-18d6-458b-8f20-f65f3e30fc10",
   "metadata": {
    "tags": []
   },
   "outputs": [],
   "source": [
    "top_10 = []\n",
    "for d in data:\n",
    "    if (d[\"price\"] - d[\"pred\"])/d[\"price\"] < -0.79:\n",
    "        top_10.append(d)"
   ]
  },
  {
   "cell_type": "code",
   "execution_count": 209,
   "id": "5de48328-1781-458d-bbcc-978290e806d8",
   "metadata": {
    "tags": []
   },
   "outputs": [
    {
     "name": "stdout",
     "output_type": "stream",
     "text": [
      "{'price': 197.0, 'pred': 352, 'title': 'Piso en Carrer de lepant 323. Piso con 2 habitaciones con ascensor', 'loc_string': 'Barcelona - Sagrada Família', 'features': ['58 m2', '2 hab.', '1 baño', '3.267 €/m2']}\n",
      "{'price': 120.0, 'pred': 219, 'title': 'Estudio Carrer del comte borrell. Estudio con ascensor', 'loc_string': 'Barcelona - Sant Antoni', 'features': ['25 m2', '1 hab.', '1 baño', '4.800 €/m2']}\n",
      "{'price': 159.0, 'pred': 314, 'title': \"Piso Passatge pla. Piso en venta en la dreta de l'eixample\", 'loc_string': 'Barcelona - Dreta de l´Eixample', 'features': ['44 m2', '1 hab.', '1 baño', '3.614 €/m2']}\n",
      "{'price': 209.0, 'pred': 376, 'title': 'Piso Carrer de múrcia. Piso con 3 habitaciones con ascensor', 'loc_string': 'Barcelona - Navas', 'features': ['93 m2', '3 hab.', '1 baño', '2.247 €/m2']}\n",
      "{'price': 90.0, 'pred': 222, 'title': 'Piso Carrer de viladomat. Piso amueblado con ascensor', 'loc_string': 'Barcelona - Sant Antoni', 'features': ['13 m2', '1 hab.', '1 baño', '6.923 €/m2']}\n",
      "{'price': 210.0, 'pred': 404, 'title': 'Piso Sepulveda. Piso con 5 habitaciones', 'loc_string': 'Barcelona - Sant Antoni', 'features': ['153 m2', '5 hab.', '2 baños', '1.373 €/m2']}\n",
      "{'price': 165.0, 'pred': 323, 'title': 'Piso Carrer piquer. Reformado recientemente', 'loc_string': 'Barcelona - Sant Antoni', 'features': ['59 m2', '2 hab.', '1 baño', '2.797 €/m2']}\n",
      "{'price': 200.0, 'pred': 368, 'title': 'Estudio Carrer de sicília. Estudio en venta en sicilia', 'loc_string': 'Barcelona - Fort Pienc', 'features': ['93 m2', '0 hab.', '1 baño', '2.151 €/m2']}\n",
      "{'price': 170.0, 'pred': 325, 'title': 'Piso Carrer de las navas de tolosa. Buen piso para reformar junto a plaza maragall', 'loc_string': 'Barcelona - Navas', 'features': ['64 m2', '2 hab.', '1 baño', '2.656 €/m2']}\n"
     ]
    }
   ],
   "source": [
    "# print a summary\n",
    "keys_to_include = [\"price\", \"pred\", \"title\", \"loc_string\", \"features\"]\n",
    "\n",
    "for d in top_10:\n",
    "    d_sum = {}\n",
    "    for k in keys_to_include:\n",
    "        d_sum[k] = d[k] \n",
    "    d_sum[\"pred\"] = int(d_sum[\"pred\"])\n",
    "    print(d_sum)"
   ]
  },
  {
   "cell_type": "markdown",
   "id": "d9283a9f-7f43-477b-aada-961c9d908672",
   "metadata": {},
   "source": [
    "### Task 5:\n",
    "Find most overvalued properties according to this model."
   ]
  },
  {
   "cell_type": "code",
   "execution_count": null,
   "id": "45e24a27-26f6-4852-9e6d-fdda3c069551",
   "metadata": {},
   "outputs": [],
   "source": []
  }
 ],
 "metadata": {
  "kernelspec": {
   "display_name": "Python 3 (ipykernel)",
   "language": "python",
   "name": "python3"
  },
  "language_info": {
   "codemirror_mode": {
    "name": "ipython",
    "version": 3
   },
   "file_extension": ".py",
   "mimetype": "text/x-python",
   "name": "python",
   "nbconvert_exporter": "python",
   "pygments_lexer": "ipython3",
   "version": "3.11.4"
  }
 },
 "nbformat": 4,
 "nbformat_minor": 5
}
